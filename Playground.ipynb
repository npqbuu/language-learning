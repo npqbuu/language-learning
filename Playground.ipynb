{
 "cells": [
  {
   "cell_type": "code",
   "execution_count": 32,
   "metadata": {},
   "outputs": [],
   "source": [
    "import urllib\n",
    "from bs4 import BeautifulSoup"
   ]
  },
  {
   "cell_type": "code",
   "execution_count": 33,
   "metadata": {},
   "outputs": [],
   "source": [
    "word = 'november'"
   ]
  },
  {
   "cell_type": "code",
   "execution_count": 34,
   "metadata": {},
   "outputs": [],
   "source": [
    "url = 'https://www.lexico.com/en/definition/' + word.lower()\n",
    "page = urllib.request.urlopen(url)\n",
    "soup = BeautifulSoup(page)\n",
    "list_audios = soup.find_all('audio')"
   ]
  },
  {
   "cell_type": "code",
   "execution_count": 43,
   "metadata": {},
   "outputs": [
    {
     "name": "stdout",
     "output_type": "stream",
     "text": [
      "https://lex-audio.useremarkable.com/mp3/november_us_1.mp3\n"
     ]
    }
   ],
   "source": [
    "print(list_audios[0]['src'])"
   ]
  },
  {
   "cell_type": "code",
   "execution_count": 42,
   "metadata": {},
   "outputs": [
    {
     "data": {
      "text/plain": [
       "[<audio preload=\"none\" src=\"https://lex-audio.useremarkable.com/mp3/november_us_1.mp3\"></audio>,\n",
       " <audio preload=\"none\" src=\"https://lex-audio.useremarkable.com/mp3/november_1_us_1.mp3\"></audio>,\n",
       " <audio preload=\"none\" src=\"https://lex-audio.useremarkable.com/mp3/november_us_1.mp3\"></audio>,\n",
       " <audio preload=\"none\" src=\"https://lex-audio.useremarkable.com/mp3/november_1_us_1.mp3\"></audio>,\n",
       " <audio id=\"aaf38790-d41c-43b4-a276-1fc6b8075cf5\" preload=\"none\" src=\"https://lex-audio.useremarkable.com/mp3/indubitable_gb_1.mp3\"></audio>]"
      ]
     },
     "execution_count": 42,
     "metadata": {},
     "output_type": "execute_result"
    }
   ],
   "source": [
    "list_audios"
   ]
  },
  {
   "cell_type": "code",
   "execution_count": null,
   "metadata": {},
   "outputs": [],
   "source": []
  }
 ],
 "metadata": {
  "kernelspec": {
   "display_name": "Python 3",
   "language": "python",
   "name": "python3"
  },
  "language_info": {
   "codemirror_mode": {
    "name": "ipython",
    "version": 3
   },
   "file_extension": ".py",
   "mimetype": "text/x-python",
   "name": "python",
   "nbconvert_exporter": "python",
   "pygments_lexer": "ipython3",
   "version": "3.7.4"
  }
 },
 "nbformat": 4,
 "nbformat_minor": 2
}
