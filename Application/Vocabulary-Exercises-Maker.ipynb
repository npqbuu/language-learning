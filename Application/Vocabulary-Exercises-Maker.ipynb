{
 "cells": [
  {
   "cell_type": "code",
   "execution_count": 26,
   "metadata": {},
   "outputs": [],
   "source": [
    "import urllib\n",
    "from bs4 import BeautifulSoup\n",
    "import re\n",
    "import requests\n",
    "import random"
   ]
  },
  {
   "cell_type": "code",
   "execution_count": 27,
   "metadata": {},
   "outputs": [],
   "source": [
    "headers = {\n",
    "    'x-rapidapi-host': \"twinword-word-association-quiz.p.rapidapi.com\",\n",
    "    'x-rapidapi-key': \"f9e88b40a3mshe89fe995823038bp1f4ab2jsn4f97b67d0ad0\"\n",
    "    }\n",
    "url = \"https://twinword-word-association-quiz.p.rapidapi.com/type1/\""
   ]
  },
  {
   "cell_type": "code",
   "execution_count": 28,
   "metadata": {},
   "outputs": [],
   "source": [
    "level = 10"
   ]
  },
  {
   "cell_type": "code",
   "execution_count": 29,
   "metadata": {},
   "outputs": [],
   "source": [
    "querystring = {\"area\":\"overall\",\"level\":str(level)}\n",
    "response = requests.request(\"GET\", url, headers=headers, params=querystring)"
   ]
  },
  {
   "cell_type": "code",
   "execution_count": 32,
   "metadata": {},
   "outputs": [],
   "source": [
    "data = response.json()"
   ]
  },
  {
   "cell_type": "code",
   "execution_count": 34,
   "metadata": {},
   "outputs": [
    {
     "data": {
      "text/plain": [
       "[{'quiz': ['driven', 'passionate', 'characteristic'],\n",
       "  'option': ['unflagging', 'overambitious'],\n",
       "  'correct': 2},\n",
       " {'quiz': ['scatter', 'disperse', 'sprinkle'],\n",
       "  'option': ['strew', 'ponderable'],\n",
       "  'correct': 1},\n",
       " {'quiz': ['mediator', 'dispute', 'pacifier'],\n",
       "  'option': ['chinaware', 'conciliator'],\n",
       "  'correct': 2},\n",
       " {'quiz': ['delete', 'excise', 'bowdlerize'],\n",
       "  'option': ['ballyhoo', 'expurgate'],\n",
       "  'correct': 2},\n",
       " {'quiz': ['climate', 'dry', 'arid'],\n",
       "  'option': ['stockinette', 'semiarid'],\n",
       "  'correct': 2},\n",
       " {'quiz': ['paddle', 'oar', 'regatta'],\n",
       "  'option': ['wayfarer', 'scull'],\n",
       "  'correct': 2},\n",
       " {'quiz': ['stage', 'within', 'in'],\n",
       "  'option': ['waggish', 'upstage'],\n",
       "  'correct': 2},\n",
       " {'quiz': ['religion', 'cross', 'faith'],\n",
       "  'option': ['christendom', 'commingle'],\n",
       "  'correct': 1},\n",
       " {'quiz': ['one', 'each', 'order'],\n",
       "  'option': ['sobriquet', 'seriatim'],\n",
       "  'correct': 2},\n",
       " {'quiz': ['immoral', 'playful', 'degraded'],\n",
       "  'option': ['libertine', 'huckster'],\n",
       "  'correct': 1}]"
      ]
     },
     "execution_count": 34,
     "metadata": {},
     "output_type": "execute_result"
    }
   ],
   "source": [
    "data['quizlist']"
   ]
  },
  {
   "cell_type": "code",
   "execution_count": null,
   "metadata": {},
   "outputs": [],
   "source": []
  }
 ],
 "metadata": {
  "kernelspec": {
   "display_name": "Python 3",
   "language": "python",
   "name": "python3"
  },
  "language_info": {
   "codemirror_mode": {
    "name": "ipython",
    "version": 3
   },
   "file_extension": ".py",
   "mimetype": "text/x-python",
   "name": "python",
   "nbconvert_exporter": "python",
   "pygments_lexer": "ipython3",
   "version": "3.7.4"
  }
 },
 "nbformat": 4,
 "nbformat_minor": 2
}
