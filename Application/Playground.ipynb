{
 "cells": [
  {
   "cell_type": "code",
   "execution_count": 72,
   "metadata": {},
   "outputs": [],
   "source": [
    "import urllib\n",
    "from bs4 import BeautifulSoup\n",
    "import re"
   ]
  },
  {
   "cell_type": "code",
   "execution_count": 58,
   "metadata": {},
   "outputs": [],
   "source": [
    "word = 'October'\n",
    "url = 'http://shtooka.net/search.php?str=' + word.lower() + '&lang=eng'\n",
    "page = urllib.request.urlopen(url)\n",
    "soup = BeautifulSoup(page, features='lxml')"
   ]
  },
  {
   "cell_type": "code",
   "execution_count": 59,
   "metadata": {},
   "outputs": [
    {
     "data": {
      "text/plain": [
       "<html><body><p>Notice: Undefined index: HTTP_ACCEPT_LANGUAGE in /home/nico/web/search/include/smarty.php on line 17\n",
       "<!DOCTYPE html>\n",
       "\n",
       "</p>\n",
       "<meta charset=\"utf-8\"/>\n",
       "<meta content=\"TrJsJ9lAJbgNLRs_9I-R3cIVO93w4Fml--xktC0q_hg\" name=\"google-site-verification\"/>\n",
       "<title>Shtooka - Pronunciation of “october”  [eng]</title>\n",
       "<link href=\"/css/style.css\" rel=\"stylesheet\" type=\"text/css\"/>\n",
       "<link href=\"/css/ui-lightness/jquery-ui-1.8.5.custom.css\" rel=\"stylesheet\" type=\"text/css\"/>\n",
       "<script src=\"/js/jquery-1.4.2.min.js\" type=\"text/javascript\"></script>\n",
       "<script src=\"/js/jquery-ui-1.8.5.custom.min.js\" type=\"text/javascript\"></script>\n",
       "<script src=\"/js/common.js\" type=\"text/javascript\"></script>\n",
       "<link href=\"/images/favicon.png\" rel=\"shortcut icon\" type=\"image/png\"/>\n",
       "<link href=\"http://swac-collections.org/opensearch.xml\" rel=\"search\" title=\"SWAC Collections\" type=\"application/opensearchdescription+xml\"/>\n",
       "<div class=\"container\">\n",
       "<div class=\"top_bar\">\n",
       "<div class=\"top_menu\">\n",
       "<ul>\n",
       "<li><a href=\"/index.php\">Home</a></li>\n",
       "<li><a href=\"/documentation.php\">Documentation</a></li>\n",
       "<li><a href=\"/download.php\">Download</a></li>\n",
       "</ul>\n",
       "</div>\n",
       "</div>\n",
       "<div class=\"content\">\n",
       "<div class=\"cadre_top\">\n",
       "<div class=\"cadre_top_gauche\">\n",
       "<div class=\"main_logo\">\n",
       "<a href=\"/index.php\"><img alt=\"logo Shtooka\" src=\"/images/logo_75.png\"/></a>\n",
       "</div>\n",
       "<div class=\"main_title\">\n",
       "<a href=\"/index.php\"><img alt=\"projet shtooka\" src=\"/images/titre-2.png\"/></a>\n",
       "</div>\n",
       "<div class=\"main_logo_triangle\">\n",
       "</div>\n",
       "</div>\n",
       "<div class=\"arc\">\n",
       "<form action=\"/search.php\" class=\"searchbox\" method=\"get\">\n",
       "<input id=\"str\" name=\"str\" value=\"october\"/>\n",
       "<select id=\"lang\" name=\"lang\">\n",
       "<option value=\"\">All languages</option>\n",
       "<option value=\"arb\">Arabic</option>\n",
       "<option value=\"bel\">Belarussian</option>\n",
       "<option value=\"ces\">Czech</option>\n",
       "<option value=\"cmn\">Chinese/Mandarin</option>\n",
       "<option value=\"deu\">German</option>\n",
       "<option selected=\"\" value=\"eng\">English</option>\n",
       "<option value=\"fra\">French</option>\n",
       "<option value=\"ita\">Italian</option>\n",
       "<option value=\"nld\">Dutch</option>\n",
       "<option value=\"pol\">Polish</option>\n",
       "<option value=\"por\">Portuguese</option>\n",
       "<option value=\"rus\">Russian</option>\n",
       "<option value=\"spa\">Spanish</option>\n",
       "<option value=\"srp\">Serbian</option>\n",
       "<option value=\"swe\">Swedish</option>\n",
       "<option value=\"ukr\">Ukrainian</option>\n",
       "<option value=\"wol\">Wolof</option>\n",
       "<option value=\"wuu\">Wuu/Shanghainese</option>\n",
       "</select> <input class=\"submit\" type=\"submit\" value=\"Search\"/>\n",
       "</form>\n",
       "</div>\n",
       "</div>\n",
       "<div class=\"grand_cadre\">\n",
       "<script>\n",
       "\t\t\tinitCompleter(\"#str\", document.getElementById('lang'));\n",
       "\t\t</script>\n",
       "<script type=\"text/javascript\">\n",
       "function readtrack (elm, id, mp3, ogg, info) {\n",
       "\thtml = '<audio controls=\"\" autoplay=\"\">';\n",
       "\thtml += '<source src=\"' + ogg + '\" type=\"audio/ogg\"/>';\n",
       "\thtml += '<source src=\"' + mp3 + '\" type=\"audio/mpeg\"/>';\n",
       "\thtml += '<object type=\"application/x-shockwave-flash\" data=\"/dewplayer-mini.swf?autostart=1&mp3=' + mp3 + '\" width=\"240\" height=\"20\">';\n",
       "\thtml += '<param name=\"movie\" value=\"/dewplayer-mini.swf?autostart=1&mp3=' + mp3 + '\" />';\n",
       "\thtml += '</object>';\n",
       "\thtml += '</audio>';\n",
       "\tif (info)\n",
       "\t\thtml += '&nbsp;<a href=\"/view_sound.php?id=' + id + '\"><img src=\"/images/info.png\"/></a>';\n",
       "\tdocument.getElementById(elm).innerHTML = html;\n",
       "}\n",
       "</script>\n",
       "<h2 class=\"nice\">Matching recordings: 1</h2>\n",
       "<div class=\"sound\">\n",
       "<div class=\"sound_top\">\n",
       "<div class=\"download\">\n",
       "<a onclick=\"$('#dowload_41943_popup').toggle('fast');\">Download</a>\n",
       "<ul id=\"dowload_41943_popup\" style=\"display: none;\">\n",
       "<li><a href=\"http://packs.shtooka.net/eng-wcp-us/ogg/En-us-October.ogg\">Ogg Vorbis</a></li>\n",
       "<li><a href=\"http://packs.shtooka.net/eng-wcp-us/flac/En-us-October.flac\">Flac</a></li>\n",
       "<li><a href=\"http://packs.shtooka.net/eng-wcp-us/mp3/En-us-October.mp3\">Mp3</a></li>\n",
       "<li><a href=\"http://packs.shtooka.net/eng-wcp-us/spx/En-us-October.spx\">Ogg Speex</a></li>\n",
       "</ul>\n",
       "</div>\n",
       "<span>\n",
       "\t\tBetsy Megas \n",
       "\t\t(US / California)\n",
       "\t\t</span>\n",
       "</div>\n",
       "<div class=\"sound_bottom\">\n",
       "\t\t« October » \n",
       "\t\t\t\t<em>(English)</em>\n",
       "<span id=\"player_41943\">\n",
       "<img alt=\"Play\" class=\"player\" onclick=\"readtrack('player_41943', 41943, 'http://packs.shtooka.net/eng-wcp-us/mp3/En-us-October.mp3', 'http://packs.shtooka.net/eng-wcp-us/ogg/En-us-October.ogg', false);\" src=\"/images/play.png\"/>\n",
       "</span>\n",
       "<!--\n",
       "\t\t\t\t\t<div class=\"edit\">\n",
       "\t\t\t[ <a href=\"/edit/sound.php?id=41943\">edit</a> ]\n",
       "\t\t\t</div>\n",
       "\t\t\t\t\t\t\t\n",
       "-->\n",
       "</div>\n",
       "</div>\n",
       "<h2 class=\"nice\">You can also look for “october” on other projects:</h2>\n",
       "<p><img alt=\"Logo Tatoeba\" src=\"/images/tatoeba_32x32.png\"/>\n",
       "<a href=\"http://tatoeba.org/eng/sentences/search?query=october&amp;from=eng\">Tatoeba Project (collection of example sentences)</a></p>\n",
       "<p><img alt=\"Logo Wiktionnaire\" src=\"/images/logo_wiktionary_50px.png\"/>\n",
       "<a href=\"http://en.wiktionary.org/wiki/october\">Wiktionary (dictionary and thesaurus)</a></p>\n",
       "</div>\n",
       "<div class=\"footer\">\n",
       "<ul class=\"footer\">\n",
       "<li>View this site in\t\t\t\t\t<form method=\"post\">\n",
       "<select name=\"locale\" onchange=\"submit();\">\n",
       "<option selected=\"1\" value=\"en_GB\">English</option>\n",
       "<option value=\"fr_FR\">Français</option>\n",
       "<option value=\"it_IT\">Italiano</option>\n",
       "<option value=\"nl_NL\">Nederlands</option>\n",
       "<option value=\"zh_CN\">中文</option>\n",
       "</select>\n",
       "</form>\n",
       "</li>\n",
       "<li><a href=\"/contact.php\">Contact</a></li>\n",
       "<li><a href=\"/download.php\">Download</a></li>\n",
       "<li><a href=\"/statistics.php\">Statistics</a></li>\n",
       "<li><a href=\"/credits.php\">Credits</a></li>\n",
       "</ul>\n",
       "</div>\n",
       "</div>\n",
       "</div>\n",
       "<script src=\"http://m3.moostik.net/js/?pseudo=shtookasearch&amp;option=invisible\" type=\"text/javascript\"></script>\n",
       "<noscript><img alt=\"\" src=\"http://m3.moostik.net/img/?pseudo=shtookasearch&amp;option=invisible\"/></noscript>\n",
       "</body></html>"
      ]
     },
     "execution_count": 59,
     "metadata": {},
     "output_type": "execute_result"
    }
   ],
   "source": [
    "soup"
   ]
  },
  {
   "cell_type": "code",
   "execution_count": 95,
   "metadata": {},
   "outputs": [],
   "source": [
    "L = soup.find_all('a', href=re.compile('ogg/En-us-'))\n"
   ]
  },
  {
   "cell_type": "code",
   "execution_count": 98,
   "metadata": {},
   "outputs": [
    {
     "data": {
      "text/plain": [
       "'http://packs.shtooka.net/eng-wcp-us/ogg/En-us-October.ogg'"
      ]
     },
     "execution_count": 98,
     "metadata": {},
     "output_type": "execute_result"
    }
   ],
   "source": [
    "L[0]['href']"
   ]
  },
  {
   "cell_type": "code",
   "execution_count": 99,
   "metadata": {},
   "outputs": [
    {
     "data": {
      "text/plain": [
       "('static/pronounciation_dict.wav', <http.client.HTTPMessage at 0x225f10864c8>)"
      ]
     },
     "execution_count": 99,
     "metadata": {},
     "output_type": "execute_result"
    }
   ],
   "source": [
    "urllib.request.urlretrieve(L[0]['href'], 'static/pronounciation_dict.wav')"
   ]
  },
  {
   "cell_type": "code",
   "execution_count": null,
   "metadata": {},
   "outputs": [],
   "source": []
  }
 ],
 "metadata": {
  "kernelspec": {
   "display_name": "Python 3",
   "language": "python",
   "name": "python3"
  },
  "language_info": {
   "codemirror_mode": {
    "name": "ipython",
    "version": 3
   },
   "file_extension": ".py",
   "mimetype": "text/x-python",
   "name": "python",
   "nbconvert_exporter": "python",
   "pygments_lexer": "ipython3",
   "version": "3.7.4"
  }
 },
 "nbformat": 4,
 "nbformat_minor": 2
}
